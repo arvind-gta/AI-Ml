{
  "nbformat": 4,
  "nbformat_minor": 0,
  "metadata": {
    "colab": {
      "name": "aichat.ipynb",
      "provenance": [],
      "collapsed_sections": [],
      "authorship_tag": "ABX9TyM4F6nt+CWu5qR/XZyzk3w8",
      "include_colab_link": true
    },
    "kernelspec": {
      "name": "python3",
      "display_name": "Python 3"
    },
    "language_info": {
      "name": "python"
    }
  },
  "cells": [
    {
      "cell_type": "markdown",
      "metadata": {
        "id": "view-in-github",
        "colab_type": "text"
      },
      "source": [
        "<a href=\"https://colab.research.google.com/github/arvind-gta/AI-Ml/blob/main/aichat.ipynb\" target=\"_parent\"><img src=\"https://colab.research.google.com/assets/colab-badge.svg\" alt=\"Open In Colab\"/></a>"
      ]
    },
    {
      "cell_type": "code",
      "metadata": {
        "colab": {
          "base_uri": "https://localhost:8080/"
        },
        "id": "FErNRW5UbjtK",
        "outputId": "967174ac-ccac-4ece-b25b-5eaa1f23e9f9"
      },
      "source": [
        "pip install nltk #Natural language tool kit , work for python program related to human language\n"
      ],
      "execution_count": 1,
      "outputs": [
        {
          "output_type": "stream",
          "text": [
            "Requirement already satisfied: nltk in /usr/local/lib/python3.7/dist-packages (3.2.5)\n",
            "Requirement already satisfied: six in /usr/local/lib/python3.7/dist-packages (from nltk) (1.15.0)\n"
          ],
          "name": "stdout"
        }
      ]
    },
    {
      "cell_type": "code",
      "metadata": {
        "colab": {
          "base_uri": "https://localhost:8080/"
        },
        "id": "0sNS5-4ScTHh",
        "outputId": "cb0bc76a-adab-48da-ebd2-6e3188d78d40"
      },
      "source": [
        "pip install newspaper3k #used for web scraping"
      ],
      "execution_count": 2,
      "outputs": [
        {
          "output_type": "stream",
          "text": [
            "Collecting newspaper3k\n",
            "\u001b[?25l  Downloading https://files.pythonhosted.org/packages/d7/b9/51afecb35bb61b188a4b44868001de348a0e8134b4dfa00ffc191567c4b9/newspaper3k-0.2.8-py3-none-any.whl (211kB)\n",
            "\u001b[K     |████████████████████████████████| 215kB 4.9MB/s \n",
            "\u001b[?25hCollecting tldextract>=2.0.1\n",
            "\u001b[?25l  Downloading https://files.pythonhosted.org/packages/7e/62/b6acd3129c5615b9860e670df07fd55b76175b63e6b7f68282c7cad38e9e/tldextract-3.1.0-py2.py3-none-any.whl (87kB)\n",
            "\u001b[K     |████████████████████████████████| 92kB 4.5MB/s \n",
            "\u001b[?25hRequirement already satisfied: requests>=2.10.0 in /usr/local/lib/python3.7/dist-packages (from newspaper3k) (2.23.0)\n",
            "Requirement already satisfied: beautifulsoup4>=4.4.1 in /usr/local/lib/python3.7/dist-packages (from newspaper3k) (4.6.3)\n",
            "Collecting tinysegmenter==0.3\n",
            "  Downloading https://files.pythonhosted.org/packages/17/82/86982e4b6d16e4febc79c2a1d68ee3b707e8a020c5d2bc4af8052d0f136a/tinysegmenter-0.3.tar.gz\n",
            "Collecting feedfinder2>=0.0.4\n",
            "  Downloading https://files.pythonhosted.org/packages/35/82/1251fefec3bb4b03fd966c7e7f7a41c9fc2bb00d823a34c13f847fd61406/feedfinder2-0.0.4.tar.gz\n",
            "Requirement already satisfied: PyYAML>=3.11 in /usr/local/lib/python3.7/dist-packages (from newspaper3k) (3.13)\n",
            "Requirement already satisfied: lxml>=3.6.0 in /usr/local/lib/python3.7/dist-packages (from newspaper3k) (4.2.6)\n",
            "Collecting cssselect>=0.9.2\n",
            "  Downloading https://files.pythonhosted.org/packages/3b/d4/3b5c17f00cce85b9a1e6f91096e1cc8e8ede2e1be8e96b87ce1ed09e92c5/cssselect-1.1.0-py2.py3-none-any.whl\n",
            "Requirement already satisfied: Pillow>=3.3.0 in /usr/local/lib/python3.7/dist-packages (from newspaper3k) (7.1.2)\n",
            "Collecting jieba3k>=0.35.1\n",
            "\u001b[?25l  Downloading https://files.pythonhosted.org/packages/a9/cb/2c8332bcdc14d33b0bedd18ae0a4981a069c3513e445120da3c3f23a8aaa/jieba3k-0.35.1.zip (7.4MB)\n",
            "\u001b[K     |████████████████████████████████| 7.4MB 9.1MB/s \n",
            "\u001b[?25hRequirement already satisfied: python-dateutil>=2.5.3 in /usr/local/lib/python3.7/dist-packages (from newspaper3k) (2.8.1)\n",
            "Collecting feedparser>=5.2.1\n",
            "\u001b[?25l  Downloading https://files.pythonhosted.org/packages/1c/21/faf1bac028662cc8adb2b5ef7a6f3999a765baa2835331df365289b0ca56/feedparser-6.0.2-py3-none-any.whl (80kB)\n",
            "\u001b[K     |████████████████████████████████| 81kB 6.9MB/s \n",
            "\u001b[?25hRequirement already satisfied: nltk>=3.2.1 in /usr/local/lib/python3.7/dist-packages (from newspaper3k) (3.2.5)\n",
            "Requirement already satisfied: idna in /usr/local/lib/python3.7/dist-packages (from tldextract>=2.0.1->newspaper3k) (2.10)\n",
            "Collecting requests-file>=1.4\n",
            "  Downloading https://files.pythonhosted.org/packages/77/86/cdb5e8eaed90796aa83a6d9f75cfbd37af553c47a291cd47bc410ef9bdb2/requests_file-1.5.1-py2.py3-none-any.whl\n",
            "Requirement already satisfied: filelock>=3.0.8 in /usr/local/lib/python3.7/dist-packages (from tldextract>=2.0.1->newspaper3k) (3.0.12)\n",
            "Requirement already satisfied: certifi>=2017.4.17 in /usr/local/lib/python3.7/dist-packages (from requests>=2.10.0->newspaper3k) (2020.12.5)\n",
            "Requirement already satisfied: urllib3!=1.25.0,!=1.25.1,<1.26,>=1.21.1 in /usr/local/lib/python3.7/dist-packages (from requests>=2.10.0->newspaper3k) (1.24.3)\n",
            "Requirement already satisfied: chardet<4,>=3.0.2 in /usr/local/lib/python3.7/dist-packages (from requests>=2.10.0->newspaper3k) (3.0.4)\n",
            "Requirement already satisfied: six in /usr/local/lib/python3.7/dist-packages (from feedfinder2>=0.0.4->newspaper3k) (1.15.0)\n",
            "Collecting sgmllib3k\n",
            "  Downloading https://files.pythonhosted.org/packages/9e/bd/3704a8c3e0942d711c1299ebf7b9091930adae6675d7c8f476a7ce48653c/sgmllib3k-1.0.0.tar.gz\n",
            "Building wheels for collected packages: tinysegmenter, feedfinder2, jieba3k, sgmllib3k\n",
            "  Building wheel for tinysegmenter (setup.py) ... \u001b[?25l\u001b[?25hdone\n",
            "  Created wheel for tinysegmenter: filename=tinysegmenter-0.3-cp37-none-any.whl size=13538 sha256=f97e234040353d0b789a52bdba9a21983774b17e7ddaef0160cb3539d80bd79a\n",
            "  Stored in directory: /root/.cache/pip/wheels/81/2b/43/a02ede72324dd40cdd7ca53aad718c7710628e91b8b0dc0f02\n",
            "  Building wheel for feedfinder2 (setup.py) ... \u001b[?25l\u001b[?25hdone\n",
            "  Created wheel for feedfinder2: filename=feedfinder2-0.0.4-cp37-none-any.whl size=3358 sha256=3b9630462fab9e41a46081e0008d8837b852d4190cfc53f91f7d01c770fc0b31\n",
            "  Stored in directory: /root/.cache/pip/wheels/de/03/ca/778e3a7a627e3d98836cc890e7cb40c7575424cfd3340f40ed\n",
            "  Building wheel for jieba3k (setup.py) ... \u001b[?25l\u001b[?25hdone\n",
            "  Created wheel for jieba3k: filename=jieba3k-0.35.1-cp37-none-any.whl size=7398406 sha256=0655f151ff4e94649603aa9ea91d97f257beb7a892cadb7a8fbd8f20f204d0cb\n",
            "  Stored in directory: /root/.cache/pip/wheels/83/15/9c/a3f1f67e7f7181170ad37d32e503c35da20627c013f438ed34\n",
            "  Building wheel for sgmllib3k (setup.py) ... \u001b[?25l\u001b[?25hdone\n",
            "  Created wheel for sgmllib3k: filename=sgmllib3k-1.0.0-cp37-none-any.whl size=6067 sha256=36092df649f7982f1409662ce316449be36f731386c5319eed74ebe7b446507e\n",
            "  Stored in directory: /root/.cache/pip/wheels/f1/80/5a/444ba08a550cdd241bd9baf8bae44be750efe370adb944506a\n",
            "Successfully built tinysegmenter feedfinder2 jieba3k sgmllib3k\n",
            "Installing collected packages: requests-file, tldextract, tinysegmenter, feedfinder2, cssselect, jieba3k, sgmllib3k, feedparser, newspaper3k\n",
            "Successfully installed cssselect-1.1.0 feedfinder2-0.0.4 feedparser-6.0.2 jieba3k-0.35.1 newspaper3k-0.2.8 requests-file-1.5.1 sgmllib3k-1.0.0 tinysegmenter-0.3 tldextract-3.1.0\n"
          ],
          "name": "stdout"
        }
      ]
    },
    {
      "cell_type": "code",
      "metadata": {
        "id": "B9P61mmjclaF"
      },
      "source": [
        "from newspaper import Article\n",
        "import random\n",
        "import string\n",
        "import nltk\n",
        "from sklearn.feature_extraction.text import CountVectorizer #provides a simple way to both tokenize a collection of text documents and build a vocabulary of known words,\n",
        "from sklearn.metrics.pairwise import cosine_similarity # computes similarity as the normalized dot product of X and Y\n",
        "import numpy as np\n",
        "import warnings\n",
        "warnings.filterwarnings('ignore')"
      ],
      "execution_count": 3,
      "outputs": []
    },
    {
      "cell_type": "code",
      "metadata": {
        "colab": {
          "base_uri": "https://localhost:8080/"
        },
        "id": "1jDwRvgIdqBi",
        "outputId": "6c32339f-a0bf-46f4-c215-bf9b5caa332c"
      },
      "source": [
        "nltk.download('punkt',quiet=True)#This tokenizer divides a text into a list of sentences, by using an unsupervised algorithm to build a model for abbreviation words, collocations, and words that start sentences"
      ],
      "execution_count": 4,
      "outputs": [
        {
          "output_type": "execute_result",
          "data": {
            "text/plain": [
              "True"
            ]
          },
          "metadata": {
            "tags": []
          },
          "execution_count": 4
        }
      ]
    },
    {
      "cell_type": "code",
      "metadata": {
        "id": "ILf68sIJeEJe"
      },
      "source": [
        "article =Article('https://www.medicinenet.com/chronic_disease/definition.htm')\n",
        "article.download()\n",
        "article.parse()\n",
        "article.nlp()\n",
        "corpus=article.text"
      ],
      "execution_count": 5,
      "outputs": []
    },
    {
      "cell_type": "code",
      "metadata": {
        "colab": {
          "base_uri": "https://localhost:8080/"
        },
        "id": "Mklvx_fnf3Ou",
        "outputId": "23cf573e-b807-4b0a-9739-1c810fc5ac83"
      },
      "source": [
        "print(corpus)"
      ],
      "execution_count": 6,
      "outputs": [
        {
          "output_type": "stream",
          "text": [
            "Chronic disease: A disease that persists for a long time. A chronic disease is one lasting 3 months or more, by the definition of the U.S. National Center for Health Statistics. Chronic diseases generally cannot be prevented by vaccines or cured by medication, nor do they just disappear. Eighty-eight percent of Americans over 65 years of age have at least one chronic health condition (as of 1998). Health damaging behaviors - particularly tobacco use, lack of physical activity, and poor eating habits - are major contributors to the leading chronic diseases.\n",
            "\n",
            "Chronic diseases tend to become more common with age. The leading chronic diseases in developed countries include (in alphabetical order) arthritis, cardiovascular disease such as heart attacks and stroke, cancer such as breast and colon cancer, diabetes, epilepsy and seizures, obesity, and oral health problems. Each of these conditions plague older adults in the US (and other developed nations).\n",
            "\n",
            "Arthritis and related conditions are the leading cause of disability in the US affecting nearly 43 million Americans. Although cost-effective interventions are available to reduce the burden of arthritis, they are underused. Regular, moderate exercise offers a host of benefits to people with arthritis by reducing joint pain and stiffness, building strong muscle around the joints, and increasing flexibility and endurance.\n",
            "\n",
            "Cardiovascular disease is a growing concern in the US. Heart disease is the nation's leading cause of death. Three health-related behaviors--tobacco use, lack of physical activity, and poor nutrition--contribute markedly to heart disease. Modifying these behaviors is critical for both preventing and controlling heart disease. Modest changes in one or more of these risk factors among the population could have a profound public health impact.\n",
            "\n",
            "Cancer is the second most common cause of death in the US. Cancer is largely controllable through prevention, early detection, and treatment. Reducing the nation's cancer burden requires reducing the prevalence of the behavioral and environmental factors that increase cancer risk. It also requires ensuring that cancer screening services and high-quality treatment are available and accessible, particularly to medically underserved populations.\n",
            "\n",
            "Colorectal cancer is the second leading cause of cancer-related deaths in the US, accounting for 10% of all cancer deaths. The risk of developing colorectal cancer increases with advancing age. Lack of physical activity, low fruit and vegetable intake, a low-fiber diet, obesity, alcohol consumption, and tobacco use may contribute to the risk for colorectal cancer.\n",
            "\n",
            "\n",
            "\n",
            "Three screening tools flexible sigmoidoscopy, colonoscopy, and the fecal occult blood test (FOBT) are widely accepted and used to detect colorectal cancer in its earliest stages, when treatment is most effective. In 1999, 66% of Americans aged 50 years or older reported not having had a sigmoidoscopy or colonoscopy within the last five years, and 79% reported not having had a fecal occult blood test within the last year.\n",
            "\n",
            "\n",
            "\n",
            "\n",
            "\n",
            "is the second leading cause of cancer-related deaths in the US, accounting for 10% of all cancer deaths. The risk of developing colorectal cancer increases with advancing age. Lack of physical activity, low fruit and vegetable intake, a low-fiber diet, obesity, alcohol consumption, and tobacco use may contribute to the risk for colorectal cancer. Three screening tools flexible sigmoidoscopy, colonoscopy, and the fecal occult blood test (FOBT) are widely accepted and used to detect colorectal cancer in its earliest stages, when treatment is most effective. In 1999, 66% of Americans aged 50 years or older reported not having had a sigmoidoscopy or colonoscopy within the last five years, and 79% reported not having had a fecal occult blood test within the last year. Breast cancer is best detected in its earliest, most treatable stage by mammography. Seventy-six percent of all diagnosed cases of breast cancer are among women aged 50 years or older.\n",
            "\n",
            "Diabetes is a serious, costly, and increasingly common chronic disease. Early detection, improved delivery of care, and better self-management are the key strategies for preventing much of the burden of diabetes. Seven million persons aged 65 years or older (20.1% of all people in this age group) have diabetes, most of them type 2 diabetes.\n",
            "\n",
            "Epilepsy and seizures affect about 2.3 million Americans, and result in an estimated $12.5 billion in medical costs and lost or reduced earnings and production annually in the US. People of all ages are affected, but particularly the very young and the elderly. About 10% of Americans will experience a seizure, and about 3% will have or will have had a diagnosis of epilepsy by age 80.\n",
            "\n",
            "Obesity has reached epidemic proportions among Americans in all age groups. Obesity among adults has doubled since 1980. People who are obese or overweight are at increased risk for heart disease, high blood pressure, diabetes, arthritis-related disabilities, and some cancers.\n",
            "\n",
            "Oral health problems are an important and often overlooked component of an older adult's general health and well-being. Oral health problems can cause pain and suffering as well as difficulty in speaking, chewing, swallowing, and maintaining a nutritious diet.\n",
            "\n",
            "CONTINUE SCROLLING OR CLICK HERE\n",
            "\n",
            "SLIDESHOW\n",
            "\n",
            "See Slideshow\n"
          ],
          "name": "stdout"
        }
      ]
    },
    {
      "cell_type": "code",
      "metadata": {
        "id": "0mQNjVUagrV3"
      },
      "source": [
        "text=corpus\n",
        "senetence_list=nltk.sent_tokenize(text)"
      ],
      "execution_count": 7,
      "outputs": []
    },
    {
      "cell_type": "code",
      "metadata": {
        "colab": {
          "base_uri": "https://localhost:8080/"
        },
        "id": "swXZOD9Pg6nX",
        "outputId": "a87aa56f-af04-4991-b57e-98fd1bc67521"
      },
      "source": [
        "print(senetence_list)"
      ],
      "execution_count": 8,
      "outputs": [
        {
          "output_type": "stream",
          "text": [
            "['Chronic disease: A disease that persists for a long time.', 'A chronic disease is one lasting 3 months or more, by the definition of the U.S. National Center for Health Statistics.', 'Chronic diseases generally cannot be prevented by vaccines or cured by medication, nor do they just disappear.', 'Eighty-eight percent of Americans over 65 years of age have at least one chronic health condition (as of 1998).', 'Health damaging behaviors - particularly tobacco use, lack of physical activity, and poor eating habits - are major contributors to the leading chronic diseases.', 'Chronic diseases tend to become more common with age.', 'The leading chronic diseases in developed countries include (in alphabetical order) arthritis, cardiovascular disease such as heart attacks and stroke, cancer such as breast and colon cancer, diabetes, epilepsy and seizures, obesity, and oral health problems.', 'Each of these conditions plague older adults in the US (and other developed nations).', 'Arthritis and related conditions are the leading cause of disability in the US affecting nearly 43 million Americans.', 'Although cost-effective interventions are available to reduce the burden of arthritis, they are underused.', 'Regular, moderate exercise offers a host of benefits to people with arthritis by reducing joint pain and stiffness, building strong muscle around the joints, and increasing flexibility and endurance.', 'Cardiovascular disease is a growing concern in the US.', \"Heart disease is the nation's leading cause of death.\", 'Three health-related behaviors--tobacco use, lack of physical activity, and poor nutrition--contribute markedly to heart disease.', 'Modifying these behaviors is critical for both preventing and controlling heart disease.', 'Modest changes in one or more of these risk factors among the population could have a profound public health impact.', 'Cancer is the second most common cause of death in the US.', 'Cancer is largely controllable through prevention, early detection, and treatment.', \"Reducing the nation's cancer burden requires reducing the prevalence of the behavioral and environmental factors that increase cancer risk.\", 'It also requires ensuring that cancer screening services and high-quality treatment are available and accessible, particularly to medically underserved populations.', 'Colorectal cancer is the second leading cause of cancer-related deaths in the US, accounting for 10% of all cancer deaths.', 'The risk of developing colorectal cancer increases with advancing age.', 'Lack of physical activity, low fruit and vegetable intake, a low-fiber diet, obesity, alcohol consumption, and tobacco use may contribute to the risk for colorectal cancer.', 'Three screening tools flexible sigmoidoscopy, colonoscopy, and the fecal occult blood test (FOBT) are widely accepted and used to detect colorectal cancer in its earliest stages, when treatment is most effective.', 'In 1999, 66% of Americans aged 50 years or older reported not having had a sigmoidoscopy or colonoscopy within the last five years, and 79% reported not having had a fecal occult blood test within the last year.', 'is the second leading cause of cancer-related deaths in the US, accounting for 10% of all cancer deaths.', 'The risk of developing colorectal cancer increases with advancing age.', 'Lack of physical activity, low fruit and vegetable intake, a low-fiber diet, obesity, alcohol consumption, and tobacco use may contribute to the risk for colorectal cancer.', 'Three screening tools flexible sigmoidoscopy, colonoscopy, and the fecal occult blood test (FOBT) are widely accepted and used to detect colorectal cancer in its earliest stages, when treatment is most effective.', 'In 1999, 66% of Americans aged 50 years or older reported not having had a sigmoidoscopy or colonoscopy within the last five years, and 79% reported not having had a fecal occult blood test within the last year.', 'Breast cancer is best detected in its earliest, most treatable stage by mammography.', 'Seventy-six percent of all diagnosed cases of breast cancer are among women aged 50 years or older.', 'Diabetes is a serious, costly, and increasingly common chronic disease.', 'Early detection, improved delivery of care, and better self-management are the key strategies for preventing much of the burden of diabetes.', 'Seven million persons aged 65 years or older (20.1% of all people in this age group) have diabetes, most of them type 2 diabetes.', 'Epilepsy and seizures affect about 2.3 million Americans, and result in an estimated $12.5 billion in medical costs and lost or reduced earnings and production annually in the US.', 'People of all ages are affected, but particularly the very young and the elderly.', 'About 10% of Americans will experience a seizure, and about 3% will have or will have had a diagnosis of epilepsy by age 80.', 'Obesity has reached epidemic proportions among Americans in all age groups.', 'Obesity among adults has doubled since 1980.', 'People who are obese or overweight are at increased risk for heart disease, high blood pressure, diabetes, arthritis-related disabilities, and some cancers.', \"Oral health problems are an important and often overlooked component of an older adult's general health and well-being.\", 'Oral health problems can cause pain and suffering as well as difficulty in speaking, chewing, swallowing, and maintaining a nutritious diet.', 'CONTINUE SCROLLING OR CLICK HERE\\n\\nSLIDESHOW\\n\\nSee Slideshow']\n"
          ],
          "name": "stdout"
        }
      ]
    },
    {
      "cell_type": "code",
      "metadata": {
        "id": "N0GRWAQsg9nl"
      },
      "source": [
        "#hello hii\n",
        "def greeting_response(text):\n",
        "  text=text.lower()\n",
        "\n",
        "  bot_greetings=['hello budy','hi','hey','hello' 'hello human']\n",
        "  user_greetings=['hi','hey','hello','greeting']\n",
        "  age=['age','how old you']\n",
        "  ok_any=['ok','thanks']\n",
        "  ok_bot=['welcome','anytime']\n",
        "\n",
        "\n",
        "  for word in text.split():\n",
        "    if word in user_greetings:\n",
        "      return random.choice(bot_greetings) \n",
        "    elif word in age:\n",
        "      return \"I am 26 year old\"\n",
        "    elif word in ok_any:\n",
        "      return random.choice(ok_bot)\n",
        "\n",
        " "
      ],
      "execution_count": 24,
      "outputs": []
    },
    {
      "cell_type": "code",
      "metadata": {
        "id": "XlLcndoYkepX"
      },
      "source": [
        "def index_sort(list_var):\n",
        "  length=len(list_var)\n",
        "  list_index=list(range(0,length))\n",
        "  x=list_var\n",
        "  for i in range(length):\n",
        "    for j in range(length):\n",
        "      if x[list_index[i]]>x[list_index[j]]:\n",
        "        list_index[i],list_index[j]=list_index[j],list_index[i]\n",
        "  return list_index"
      ],
      "execution_count": 25,
      "outputs": []
    },
    {
      "cell_type": "code",
      "metadata": {
        "id": "dZgqkyd1id6U"
      },
      "source": [
        "def bot_response(user_input):\n",
        "  user_input=user_input.lower()\n",
        "  senetence_list.append(user_input)\n",
        "  bot_response=''\n",
        "  cm=CountVectorizer().fit_transform(senetence_list)\n",
        "  similarity_scores= cosine_similarity(cm[-1],cm)\n",
        "  similarity_scores_list=similarity_scores.flatten()\n",
        "  index=index_sort(similarity_scores_list)\n",
        "  index=index[1:]\n",
        "  response_flag=0\n",
        "\n",
        "  j=0\n",
        "  for i in range(len(index)):\n",
        "    if similarity_scores_list[index[i]]>0.0:\n",
        "      bot_response=bot_response+' '+senetence_list[index[i]]\n",
        "      response_flag=1\n",
        "      j=j+1\n",
        "    if j>2:\n",
        "      break\n",
        "  if response_flag==0:\n",
        "    bot_response=bot_response+' '+ \"I didn't get it, I apologises\"\n",
        "\n",
        "  senetence_list.remove(user_input)\n",
        "  return bot_response"
      ],
      "execution_count": 26,
      "outputs": []
    },
    {
      "cell_type": "code",
      "metadata": {
        "colab": {
          "base_uri": "https://localhost:8080/"
        },
        "id": "SxCUt-Qkt1ur",
        "outputId": "8a8980b8-e8dd-4a7b-bb67-8d33f82d900d"
      },
      "source": [
        "print(\"Sanya: I am chatbot ask anything, if don't want to chat then say bye\")\n",
        "exit_list=['exit','see you later', 'break','bye']\n",
        "while(True):\n",
        "  user_input=input()\n",
        "  if user_input.lower() in exit_list:\n",
        "    print(\"Sanya :See you soon :)\")\n",
        "    break\n",
        "  else:\n",
        "    if greeting_response(user_input)!=None:\n",
        "      print('Sanya:'+greeting_response(user_input))\n",
        "    else:\n",
        "      print('Sanya:'+bot_response(user_input))"
      ],
      "execution_count": 27,
      "outputs": [
        {
          "output_type": "stream",
          "text": [
            "Sanya: I am chatbot ask anything, if don't want to chat then say bye\n",
            "hii\n",
            "Sanya: hii\n",
            "age\n",
            "Sanya:I am 26 year old\n",
            "thanks\n",
            "Sanya:anytime\n",
            "bye\n",
            "Sanya :See you soon :)\n"
          ],
          "name": "stdout"
        }
      ]
    },
    {
      "cell_type": "code",
      "metadata": {
        "id": "y00Eqq5Qt2y4"
      },
      "source": [
        ""
      ],
      "execution_count": null,
      "outputs": []
    }
  ]
}